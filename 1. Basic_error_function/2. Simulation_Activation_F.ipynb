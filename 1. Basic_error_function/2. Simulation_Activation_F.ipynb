{
 "cells": [
  {
   "cell_type": "code",
   "execution_count": 2,
   "metadata": {},
   "outputs": [],
   "source": [
    "import math"
   ]
  },
  {
   "cell_type": "code",
   "execution_count": 12,
   "metadata": {},
   "outputs": [],
   "source": [
    "def calc_activation_func(x, act_name):\n",
    "    if act_name == 'sigmoid':\n",
    "        result = 1/(1+math.e**(-x))\n",
    "    if act_name == 'relu':\n",
    "        if x<= 0: \n",
    "            result = 0\n",
    "        else:\n",
    "            result = x\n",
    "    if act_name == 'elu':\n",
    "        alpha = 0.01\n",
    "        if x <= 0:\n",
    "            result = alpha*(math.e**x-1)\n",
    "        else:\n",
    "            result = x\n",
    "    return result\n",
    "        "
   ]
  },
  {
   "cell_type": "code",
   "execution_count": 25,
   "metadata": {},
   "outputs": [],
   "source": [
    "def exercise2():\n",
    "    x = input('Input x = ')\n",
    "    \n",
    "    try: \n",
    "        x = float(x)\n",
    "        \n",
    "    except ValueError:\n",
    "        print('x must be a number')\n",
    "        return\n",
    "\n",
    "    act_name = input('Input activation Function (sigmoid|relu|elu): ')\n",
    "    x = float(x)\n",
    "    result = calc_activation_func(x, act_name)\n",
    "    if result is None:\n",
    "        print(f'{act_name} is not supportted')\n",
    "    else:\n",
    "        print(f'{act_name}: f({x}) = {result}')"
   ]
  },
  {
   "cell_type": "code",
   "execution_count": 27,
   "metadata": {},
   "outputs": [
    {
     "name": "stdout",
     "output_type": "stream",
     "text": [
      "sigmoid: f(10.0) = 0.9999546021312976\n"
     ]
    }
   ],
   "source": [
    "exercise2()"
   ]
  },
  {
   "cell_type": "code",
   "execution_count": 28,
   "metadata": {},
   "outputs": [
    {
     "name": "stdout",
     "output_type": "stream",
     "text": [
      "relu: f(10.0) = 10.0\n"
     ]
    }
   ],
   "source": [
    "exercise2()"
   ]
  },
  {
   "cell_type": "code",
   "execution_count": 29,
   "metadata": {},
   "outputs": [
    {
     "name": "stdout",
     "output_type": "stream",
     "text": [
      "elu: f(10.0) = 10.0\n"
     ]
    }
   ],
   "source": [
    "exercise2()"
   ]
  }
 ],
 "metadata": {
  "kernelspec": {
   "display_name": "Python 3",
   "language": "python",
   "name": "python3"
  },
  "language_info": {
   "codemirror_mode": {
    "name": "ipython",
    "version": 3
   },
   "file_extension": ".py",
   "mimetype": "text/x-python",
   "name": "python",
   "nbconvert_exporter": "python",
   "pygments_lexer": "ipython3",
   "version": "3.9.19"
  }
 },
 "nbformat": 4,
 "nbformat_minor": 2
}
