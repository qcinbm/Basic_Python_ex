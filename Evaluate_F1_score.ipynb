{
 "cells": [
  {
   "cell_type": "code",
   "execution_count": 5,
   "metadata": {},
   "outputs": [],
   "source": [
    "def F1_Score_Evaluate(tp, fp, fn):\n",
    "    '''\n",
    "    Input: \n",
    "        tp-TruePositive  - int\n",
    "        fp-FalsePositive - int\n",
    "        fn-FalseNegative - int\n",
    "    Output:\n",
    "        Print 3 values of Precision, Recall, and F1-score\n",
    "    \n",
    "    '''\n",
    "    def is_integer(value, var_name):\n",
    "        if isinstance(value,int)==False:\n",
    "            print(var_name,'must be int')\n",
    "            exit()\n",
    "        else:\n",
    "            pass\n",
    "            \n",
    "    def is_positive(value):\n",
    "        if value <= 0:\n",
    "            print('tp and fp and fn must be greater than zero')\n",
    "            exit()\n",
    "        else:\n",
    "            pass\n",
    "        \n",
    "    def is_positive_integer(value, var_name):\n",
    "        is_integer(value, var_name)\n",
    "        is_positive(value)\n",
    "    \n",
    "    is_positive_integer(tp, 'tp')\n",
    "    is_positive_integer(fp, 'fp')\n",
    "    is_positive_integer(fn, 'fn')\n",
    "\n",
    "    precision = tp/(tp+fp)\n",
    "    recall = tp/(tp+fn)\n",
    "    f1_score = 2*(precision*recall)/(precision+recall)\n",
    "    print('precision is', precision)\n",
    "    print('recall is ', recall)\n",
    "    print('f1-score is ', f1_score)"
   ]
  },
  {
   "cell_type": "code",
   "execution_count": 7,
   "metadata": {},
   "outputs": [
    {
     "name": "stdout",
     "output_type": "stream",
     "text": [
      "tp and fp and fn must be greater than zero\n",
      "precision is -0.5\n",
      "recall is  -0.3333333333333333\n",
      "f1-score is  -0.4\n"
     ]
    },
    {
     "ename": "",
     "evalue": "",
     "output_type": "error",
     "traceback": [
      "\u001b[1;31mThe Kernel crashed while executing code in the current cell or a previous cell. \n",
      "\u001b[1;31mPlease review the code in the cell(s) to identify a possible cause of the failure. \n",
      "\u001b[1;31mClick <a href='https://aka.ms/vscodeJupyterKernelCrash'>here</a> for more info. \n",
      "\u001b[1;31mView Jupyter <a href='command:jupyter.viewOutput'>log</a> for further details."
     ]
    }
   ],
   "source": [
    "F1_Score_Evaluate(-1, 3, 4)"
   ]
  },
  {
   "cell_type": "code",
   "execution_count": null,
   "metadata": {},
   "outputs": [],
   "source": []
  }
 ],
 "metadata": {
  "kernelspec": {
   "display_name": "Python 3",
   "language": "python",
   "name": "python3"
  },
  "language_info": {
   "codemirror_mode": {
    "name": "ipython",
    "version": 3
   },
   "file_extension": ".py",
   "mimetype": "text/x-python",
   "name": "python",
   "nbconvert_exporter": "python",
   "pygments_lexer": "ipython3",
   "version": "3.9.19"
  }
 },
 "nbformat": 4,
 "nbformat_minor": 2
}
