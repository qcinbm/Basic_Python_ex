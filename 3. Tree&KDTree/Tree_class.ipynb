{
 "cells": [
  {
   "cell_type": "code",
   "execution_count": 1,
   "metadata": {},
   "outputs": [],
   "source": [
    "class TreeNode:\n",
    "    def __init__(self, data):\n",
    "        self.data = data\n",
    "        self.children = []\n",
    "        self.parent = None\n",
    "    \n",
    "    def add_child(self, child):\n",
    "        child.parent = self\n",
    "        self.children.append(child)\n",
    "        \n",
    "    def get_level(self): \n",
    "        level = 0\n",
    "        p = self.parent\n",
    "        while p:\n",
    "            level += 1\n",
    "            p = p.parent\n",
    "            \n",
    "        return level\n",
    "    \n",
    "    def print_tree(self):\n",
    "        space = ' ' * self.get_level() *3\n",
    "        prefix = space +'|__' if self.parent else ''\n",
    "        print(prefix + self.data)        \n",
    "        if self.children:\n",
    "            for child in self.children:\n",
    "                child.print_tree()\n",
    "            "
   ]
  },
  {
   "cell_type": "code",
   "execution_count": 8,
   "metadata": {},
   "outputs": [],
   "source": [
    "def create_tree():\n",
    "    a_node = TreeNode (\"A\" )\n",
    "    b_node = TreeNode (\"B\" )\n",
    "    c_node = TreeNode (\"C\")\n",
    "    d_node = TreeNode (\"D\")\n",
    "    e_node = TreeNode (\"E\")\n",
    "    f_node = TreeNode (\"F\")\n",
    "    g_node = TreeNode (\"G\")\n",
    "    a_node.add_child(b_node)\n",
    "    a_node.add_child(c_node)\n",
    "    b_node.add_child(d_node)\n",
    "    b_node.add_child(e_node)\n",
    "    c_node.add_child(f_node)\n",
    "    c_node.add_child(g_node)\n",
    "    return a_node   "
   ]
  },
  {
   "cell_type": "code",
   "execution_count": 9,
   "metadata": {},
   "outputs": [],
   "source": [
    "tree = create_tree()"
   ]
  },
  {
   "cell_type": "code",
   "execution_count": 10,
   "metadata": {},
   "outputs": [
    {
     "name": "stdout",
     "output_type": "stream",
     "text": [
      "A\n",
      "   |__B\n",
      "      |__D\n",
      "      |__E\n",
      "   |__C\n",
      "      |__F\n",
      "      |__G\n"
     ]
    }
   ],
   "source": [
    "tree.print_tree()"
   ]
  },
  {
   "cell_type": "code",
   "execution_count": null,
   "metadata": {},
   "outputs": [],
   "source": [
    "class TreeNode:\n",
    "    def __init__(self, key):\n",
    "        self.left = None\n",
    "        self.right = None\n",
    "        self.val = key \n"
   ]
  },
  {
   "cell_type": "code",
   "execution_count": null,
   "metadata": {},
   "outputs": [],
   "source": [
    "from graphviz import Graph "
   ]
  },
  {
   "cell_type": "code",
   "execution_count": null,
   "metadata": {},
   "outputs": [],
   "source": [
    "root = TreeNode(1)\n",
    "root.left = TreeNode(2)\n",
    "root.right = TreeNode(3)\n",
    "root.left. left = TreeNode(4)\n",
    "root.teft. right = TreeNode(5)\n",
    "dot = draw_tree(root)\n",
    "dot.render('orignial_tree', format='png', view=True)"
   ]
  }
 ],
 "metadata": {
  "kernelspec": {
   "display_name": "Python 3",
   "language": "python",
   "name": "python3"
  },
  "language_info": {
   "codemirror_mode": {
    "name": "ipython",
    "version": 3
   },
   "file_extension": ".py",
   "mimetype": "text/x-python",
   "name": "python",
   "nbconvert_exporter": "python",
   "pygments_lexer": "ipython3",
   "version": "3.11.4"
  }
 },
 "nbformat": 4,
 "nbformat_minor": 2
}
